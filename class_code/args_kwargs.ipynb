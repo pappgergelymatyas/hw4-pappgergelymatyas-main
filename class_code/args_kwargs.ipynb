{
 "cells": [
  {
   "cell_type": "markdown",
   "metadata": {},
   "source": [
    "# Understanding `*args` and `**kwargs` in Python\n",
    "\n",
    "In Python, `*args` and `**kwargs` are used to pass a variable number of arguments to a function. These names (`args` and `kwargs`) are just conventions, and the real magic lies in the `*` and `**` symbols.\n",
    "\n",
    "- `*args` allows you to pass any number of **positional arguments** to a function.\n",
    "- `**kwargs` allows you to pass any number of **keyword arguments** (i.e., named arguments) to a function.\n"
   ]
  },
  {
   "cell_type": "markdown",
   "metadata": {},
   "source": [
    "## Using `*args`\n",
    "\n",
    "The `*args` syntax allows us to pass a **variable number of positional arguments** to a function.\n"
   ]
  },
  {
   "cell_type": "code",
   "execution_count": null,
   "metadata": {},
   "outputs": [],
   "source": [
    "def mistborn_allomancers(*metal_types):\n",
    "    \"\"\"\n",
    "    This function accepts any number of positional arguments.\n",
    "    These arguments represent the metals burned by Mistborn Allomancers.\n",
    "    \"\"\"\n",
    "    print(\"Allomancers are burning the following metals:\")\n",
    "    for metal in metal_types:\n",
    "        print(f\"- {metal} is burned\")\n",
    "        print(\"- metal\")\n",
    "        print(\"- \" + metal)\n",
    "\n",
    "# Calling the function with different numbers of arguments\n",
    "mistborn_allomancers(\"Pewter\", \"Steel\", \"Iron\")\n",
    "mistborn_allomancers(\"Gold\", \"Atium\")"
   ]
  },
  {
   "cell_type": "markdown",
   "metadata": {},
   "source": [
    "## Using  `**kwargs `\n",
    "\n",
    "The  `**kwargs ` syntax allows us to pass a variable number of keyword arguments to a function. This is useful when we want to accept named arguments whose names are not predefined."
   ]
  },
  {
   "cell_type": "code",
   "execution_count": null,
   "metadata": {},
   "outputs": [],
   "source": [
    "def radiant_orders(**surgebinders):\n",
    "    \"\"\"\n",
    "    This function accepts any number of keyword arguments.\n",
    "    These arguments represent Radiants and their bonded spren.\n",
    "    \"\"\"\n",
    "    print(\"Radiants and their bonded spren:\")\n",
    "    for radiant, spren in surgebinders.items():\n",
    "        print(f\"- {radiant} is bonded to {spren}\")\n",
    "\n",
    "# Calling the function with different keyword arguments\n",
    "radiant_orders(Kaladin=\"Syl\", Shallan=\"Pattern\", Dalinar=\"Stormfather\")\n",
    "radiant_orders(Jasnah=\"Ivory\")\n"
   ]
  },
  {
   "cell_type": "markdown",
   "metadata": {},
   "source": [
    "##  Combining `*args` and `**kwargs`\n",
    "\n",
    "You can combine `*args` and `**kwargs` in the same function to accept both positional and keyword arguments."
   ]
  },
  {
   "cell_type": "code",
   "execution_count": null,
   "metadata": {},
   "outputs": [],
   "source": [
    "def cosmere_characters(*planets, **characters):\n",
    "    \"\"\"\n",
    "    This function accepts both positional and keyword arguments.\n",
    "    The positional arguments represent planets in the Cosmere, \n",
    "    and the keyword arguments represent characters from those planets.\n",
    "    \"\"\"\n",
    "    print(\"Cosmere Planets:\")\n",
    "    for planet in planets:\n",
    "        print(f\"- {planet}\")\n",
    "    \n",
    "    print(\"\\nCharacters from those planets:\")\n",
    "    for name, planet in characters.items():\n",
    "        print(f\"- {name} is from {planet}\")\n",
    "\n",
    "# Calling the function with both positional and keyword arguments\n",
    "cosmere_characters(\"Roshar\", \"Scadrial\", Kaladin=\"Roshar\", Vin=\"Scadrial\", Kelsier=\"Scadrial\")\n"
   ]
  },
  {
   "cell_type": "markdown",
   "metadata": {},
   "source": [
    "## Important: `args` and `kwargs` are just conventional names\n",
    "\n",
    "It's important to understand that `*args` and `**kwargs` are just agreed-upon names. You could name them anything, as long as you use the `*` and `**` symbols properly."
   ]
  },
  {
   "cell_type": "code",
   "execution_count": null,
   "metadata": {},
   "outputs": [],
   "source": [
    "def shardblades(*weapons, **users):\n",
    "    \"\"\"\n",
    "    This function accepts both positional and keyword arguments.\n",
    "    The positional arguments are different Shardblades, and\n",
    "    the keyword arguments represent the users of those Shardblades.\n",
    "    \"\"\"\n",
    "    print(\"Shardblades:\")\n",
    "    for blade in weapons:\n",
    "        print(f\"- {blade}\")\n",
    "    \n",
    "    print(\"\\nWho wields them:\")\n",
    "    for user, blade in users.items():\n",
    "        print(f\"- {user} wields {blade}\")\n",
    "\n",
    "# Calling the function with different names for *args and **kwargs\n",
    "shardblades(\"Oathbringer\", \"Nightblood\", Dalinar=\"Oathbringer\", Szeth=\"Nightblood\")\n"
   ]
  },
  {
   "cell_type": "markdown",
   "metadata": {},
   "source": [
    "In Python, `*args` and `**kwargs` are typically used with functions to pass a variable number of positional (`*args`) and keyword arguments (`**kwargs`). However, they can also be used in other contexts outside of function definitions and calls. Here are some examples of how you can use `*args` and `**kwargs` in Python beyond the usual function usage:"
   ]
  },
  {
   "cell_type": "markdown",
   "metadata": {},
   "source": [
    "## Unpacking Arguments in Lists and Tuples (`*args` for unpacking)\n",
    "\n",
    "You can use `*` to unpack values from a list, tuple, or other iterable into another list or to assign multiple values at once."
   ]
  },
  {
   "cell_type": "code",
   "execution_count": null,
   "metadata": {},
   "outputs": [],
   "source": [
    "# Unpacking a list into another list\n",
    "metal_types = [\"Pewter\", \"Steel\", \"Iron\"]\n",
    "allomancers = [\"Vin\", *metal_types, \"Kelsier\"]\n",
    "print(allomancers)\n",
    "# Output: ['Vin', 'Pewter', 'Steel', 'Iron', 'Kelsier']\n",
    "\n",
    "# Unpacking a tuple\n",
    "mistborn_powers = (1, 2, 3)\n",
    "a, *b, c = mistborn_powers\n",
    "print(a)  # Output: 1\n",
    "print(b)  # Output: [2]\n",
    "print(c)  # Output: 3"
   ]
  },
  {
   "cell_type": "markdown",
   "metadata": {},
   "source": [
    "## Slicing with `*args` Unpacking\n",
    "\n",
    "You can use `*args` to handle slices of iterables by unpacking a part of the sequence into multiple variables."
   ]
  },
  {
   "cell_type": "code",
   "execution_count": null,
   "metadata": {},
   "outputs": [],
   "source": [
    "# Unpacking parts of a tuple using *\n",
    "characters = (\"Kaladin\", \"Shallan\", \"Dalinar\", \"Adolin\", \"Renarin\")\n",
    "leader, *radiants, youngest = characters\n",
    "print(leader)  # Output: Kaladin\n",
    "print(radiants)  # Output: ['Shallan', 'Dalinar', 'Adolin']\n",
    "print(youngest)  # Output: Renarin"
   ]
  }
 ],
 "metadata": {
  "kernelspec": {
   "display_name": "Python 3",
   "language": "python",
   "name": "python3"
  },
  "language_info": {
   "codemirror_mode": {
    "name": "ipython",
    "version": 3
   },
   "file_extension": ".py",
   "mimetype": "text/x-python",
   "name": "python",
   "nbconvert_exporter": "python",
   "pygments_lexer": "ipython3",
   "version": "3.11.3"
  }
 },
 "nbformat": 4,
 "nbformat_minor": 2
}
